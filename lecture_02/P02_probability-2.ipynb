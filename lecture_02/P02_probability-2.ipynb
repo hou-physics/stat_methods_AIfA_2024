{
  "cells": [
    {
      "cell_type": "markdown",
      "metadata": {
        "id": "FPYgbm75bgNM"
      },
      "source": [
        "# P02: Probability"
      ]
    },
    {
      "cell_type": "markdown",
      "metadata": {
        "id": "BpbWONGIbgNO"
      },
      "source": [
        "## Problem 1: The Gaussian distribution"
      ]
    },
    {
      "cell_type": "markdown",
      "metadata": {
        "id": "xq-qBmHqbgNP"
      },
      "source": [
        "Let us assume, we measure two quantities $y_1, y_2$ at locations $x_1, x_2$. We know that our observations are independent and each follows a Gaussian distribution with means $\\mu_1, \\mu_2$ and standard deviations $\\sigma_1, \\sigma_2$, i.e. $$P(y_1)=\\frac{1}{\\sqrt{2\\pi}\\sigma_1}e^{-\\frac{(y_1-\\mu_1)^2}{2\\sigma_1^2}},$$ and $$P(y_2)=\\frac{1}{\\sqrt{2\\pi}\\sigma_2}e^{-\\frac{(y_2-\\mu_2)^2}{2\\sigma_2^2}}.$$ We have that $\\mu_1=0, \\mu_2=2, \\sigma_1=0.5, \\sigma_2=2$, and the setup is illustrated in the plot below.\n",
        "\n",
        "(i) What is the joint distribution $P(y_1, y_2)$ of $y_1, y_2$? Write down its analytical form.\n",
        "\n",
        "(ii) Use `numpy` to draw $n$ samples of $y^i_1, y^i_2$ from this distribution. You can start with $n=100$ and see what happens if you increase $n$.\n",
        "\n",
        "(iii) Use `matplotlib` to plot histograms of the samples. In particular, plot both the 2D histogram for $y_1, y_2$, as well as the two 1D histograms for $y_1$ and $y_2$.\n",
        "\n",
        "(iv) Use `matplotlib` to obtain a contour plot from the 2D samples. Overplot it on your 2D historgram and compare.\n",
        "\n",
        "(v) Derive an analytic expectation for the 1D histograms of $y_1$ and $y_2$ (what distribution are you plotting in this case?). Compare to your findings above.\n",
        "\n",
        "(vi) Let us now assume that we are actually not interested in $y_1, y_2$ but in a linear transformation of these variables, $z_1, z_2$ defined as $$\\boldsymbol{z}=A\\boldsymbol{y},$$ where $$A=\\begin{pmatrix}\n",
        "1 & 0.2  \\\\\n",
        "0.2 & 1\n",
        "\\end{pmatrix}.$$ Using these new samples, repeat problems (i) to (v). What has changed compared to before?\n",
        "\n",
        "**Hint:** For (v) you can use the analytic expression for the 2D Gaussian we have discussed in class, i.e. $$\\mathcal{N}(\\boldsymbol{y}) = \\frac{1}{\\sqrt{(2\\pi)^2|C|}}e^{-\\frac{1}{2}(\\boldsymbol{y}-\\boldsymbol{\\mu})^TC^{-1}(\\boldsymbol{y}-\\boldsymbol{\\mu})},$$ with $$C = \\begin{pmatrix}\n",
        "\\sigma^2_1 & r\\sigma_1\\sigma_2  \\\\\n",
        "r\\sigma_1\\sigma_2 & \\sigma^2_2\n",
        "\\end{pmatrix}.$$"
      ]
    },
    {
      "cell_type": "code",
      "execution_count": null,
      "metadata": {
        "id": "E5zpyD-NbgNQ",
        "outputId": "4845fe97-ee83-46fd-fba9-29af691f80e5"
      },
      "outputs": [
        {
          "data": {
            "text/plain": [
              "Text(0, 0.5, '$y$')"
            ]
          },
          "execution_count": 8,
          "metadata": {},
          "output_type": "execute_result"
        },
        {
          "data": {
            "image/png": "[encoded data removed]",
            "text/plain": [
              "<Figure size 432x288 with 1 Axes>"
            ]
          },
          "metadata": {
            "needs_background": "light"
          },
          "output_type": "display_data"
        }
      ],
      "source": [
        "import numpy as np\n",
        "import matplotlib.pyplot as plt\n",
        "%matplotlib inline\n",
        "\n",
        "x = np.array([-1, 1])\n",
        "mu = np.array([0, 2])\n",
        "sigma  = np.array([0.5, 2])\n",
        "\n",
        "plt.errorbar(x, mu, yerr=sigma, marker='.', linewidth=2, markersize=10, \\\n",
        "            elinewidth=2, capthick=2, capsize=3.5, linestyle='None', color='#AE7182')\n",
        "plt.xlim(-1.2, 1.2)\n",
        "plt.ylim(-1.5, 4.5)\n",
        "plt.xlabel(r'$x$')\n",
        "plt.ylabel(r'$y$')"
      ]
    },
    {
      "cell_type": "markdown",
      "metadata": {
        "id": "xCjbGkOJbgNR"
      },
      "source": [
        "## Problem 2: The Monty Hall problem (taken from MacKay)"
      ]
    },
    {
      "cell_type": "markdown",
      "metadata": {
        "id": "0kalCQBlbgNR"
      },
      "source": [
        "On a game show, a contestant is told the rules as follows:\n",
        "\n",
        "There are three doors, labeled 1, 2, 3. A single prize has been hidden behind one of them. You get to select one door. Initially your chosen door will not be opened. Instead, the gameshow host will open one of the other two doors, and he will do so in such a way as not to reveal the prize. For example, if you first choose door 1, he will then open one of doors 2 and 3, and it is guaranteed that he will choose which one to open so that the prize will not be revealed.\n",
        "\n",
        "At this point, you will be given a fresh choice of door: you can either stick with your first choice, or you can switch to the other closed door. All the doors will then be opened and you will receive whatever is behind your final choice of door.\n",
        "Imagine that the contestant chooses door 1 first; then the gameshow host opens door 3, revealing nothing behind the door, as promised.\n",
        "\n",
        "Should the contestant\n",
        "\n",
        "(i) stick with door 1,\n",
        "\n",
        "(ii) switch to door 2,\n",
        "\n",
        "(ii) or does it make no difference?\n",
        "\n",
        "Explain your solution and reasoning.\n",
        "\n",
        "![image.png](attachment:image.png)"
      ]
    },
    {
      "cell_type": "markdown",
      "source": [
        "We define the relevant events:\n",
        "\n",
        "$A_1$ : The prize is behind Door 1.\n",
        "\n",
        "$A_2$ : The prize is behind Door 2.\n",
        "\n",
        "$A_3$ : The prize is behind Door 3.\n",
        "\n",
        "$B$ : The host opens Door 3, revealing no prize.\n",
        "\n",
        "The initial probabilities are uniformly distributed:\n",
        "$$P(A_i) = \\frac{1}{3},i=1,2,3$$\n",
        "\n",
        "- If the prize is behind Door 1,  $P(B|A_1) = \\frac{1}{2}$\n",
        "- If the prize is behind Door 2,  $P(B|A_2) = 1$\n",
        "- If the prize is behind Door 3,  $P(B|A_3) = 0$\n",
        "\n",
        "\n",
        "First, we calculate the denominator $P(B)$:\n",
        "\n",
        "$$\n",
        "P(B) = P(B | A_1) \\cdot P(A_1) + P(B | A_2) \\cdot P(A_2) + P(B | A_3) \\cdot P(A_3)=   \\frac{1}{2} \\cdot \\frac{1}{3} + 1 \\cdot \\frac{1}{3} + 0 \\cdot \\frac{1}{3}=\\frac{1}{2}\n",
        "$$\n",
        "\n",
        "Then with the Bayes’ Theorem:\n",
        "$$\n",
        "P(A_i | B) = \\frac{P(B | A_i) \\cdot P(A_i)}{P(B)}\n",
        "$$\n",
        "- Probability that the prize is behind Door 1:\n",
        "$$\n",
        " P(A_1 | B) = \\frac{P(B | A_1) \\cdot P(A_1)}{P(B)} = \\frac{\\frac{1}{2} \\cdot \\frac{1}{3}}{\\frac{1}{2}} = \\frac{1}{3}\n",
        "$$\n",
        "- Probability that the prize is behind Door 2:\n",
        "$$\n",
        "P(A_2 | B) = \\frac{P(B | A_2) \\cdot P(A_2)}{P(B)} = \\frac{1 \\cdot \\frac{1}{3}}{\\frac{1}{2}} = \\frac{2}{3}\n",
        "$$\n",
        "Thus, Bayes’ Theorem indicates that **switching doors gives a higher probability of winning**."
      ],
      "metadata": {
        "id": "GZhLKA53bjaT"
      }
    },
    {
      "cell_type": "code",
      "execution_count": null,
      "metadata": {
        "id": "-Hu7M4JUbgNR"
      },
      "outputs": [],
      "source": []
    }
  ],
  "metadata": {
    "kernelspec": {
      "display_name": "statmeth_env",
      "language": "python",
      "name": "statmeth_env"
    },
    "language_info": {
      "codemirror_mode": {
        "name": "ipython",
        "version": 3
      },
      "file_extension": ".py",
      "mimetype": "text/x-python",
      "name": "python",
      "nbconvert_exporter": "python",
      "pygments_lexer": "ipython3",
      "version": "3.11.7"
    },
    "colab": {
      "provenance": []
    }
  },
  "nbformat": 4,
  "nbformat_minor": 0
}