{
 "cells": [
  {
   "cell_type": "markdown",
   "metadata": {},
   "source": [
    "# P03: Point Processes"
   ]
  },
  {
   "cell_type": "markdown",
   "metadata": {},
   "source": [
    "## Problem 1: Mean and variance of Gaussian random variable"
   ]
  },
  {
   "cell_type": "markdown",
   "metadata": {},
   "source": [
    "Let us simulate the experiment of measuring a Gaussian random variable with $\\mu=0$ and standard deviation $\\sigma=1$. Each experiment is a draw from a standard normal.\n",
    "\n",
    "(i) Simulate 10 repetitions of this experiment by drawing $n_{\\mathrm{samp}}=10$ samples from this distribution.\n",
    "\n",
    "(ii) Use `numpy` routines to estimate the mean and the variance of the samples. For the variance, use the trivial but biased estimator as well as the unbiased one."
   ]
  },
  {
   "cell_type": "code",
   "execution_count": 6,
   "metadata": {
    "tags": []
   },
   "outputs": [
    {
     "name": "stdout",
     "output_type": "stream",
     "text": [
      "mean = 0.44806111169875623\n",
      "biased variance = 0.4704669452131567\n",
      "unbiased variance = 0.5227410502368408\n"
     ]
    }
   ],
   "source": [
    "import numpy as np\n",
    "\n",
    "np.random.seed(42)\n",
    "samples = np.random.normal(size=10)\n",
    "\n",
    "mean = np.mean(samples)\n",
    "print(f'mean = {mean}')\n",
    "var_bias = np.var(samples)\n",
    "print(f'biased variance = {var_bias}')\n",
    "var_nbias = np.var(samples, ddof=1)\n",
    "print(f'unbiased variance = {var_nbias}')"
   ]
  },
  {
   "cell_type": "markdown",
   "metadata": {},
   "source": [
    "## Problem 2: Distribution of sample mean"
   ]
  },
  {
   "cell_type": "markdown",
   "metadata": {},
   "source": [
    "Write a function that repeats problem 1 $n$ times.\n",
    "\n",
    "(i) Using these samples, investigate the distribution of the sample mean. How does it compare to your expectations? How do your conclusions change if you increase the sample size to $n_{\\mathrm{samp}}=100$?\n",
    "\n",
    "(ii) Using these samples, investigate the bias of the variance estimators. How does it compare to your expectations? How do your conclusions change if you increase the sample size to $n_{\\mathrm{samp}}=100$?"
   ]
  },
  {
   "cell_type": "code",
   "execution_count": 15,
   "metadata": {
    "tags": []
   },
   "outputs": [
    {
     "data": {
      "image/png": "[encoded data removed]",
      "text/plain": [
       "<Figure size 1800x500 with 3 Axes>"
      ]
     },
     "metadata": {},
     "output_type": "display_data"
    }
   ],
   "source": [
    "import numpy as np\n",
    "import matplotlib.pyplot as plt\n",
    "\n",
    "n = 500\n",
    "mean2 = np.zeros(n)\n",
    "var2_bias = np.zeros(n)\n",
    "var2_nbias = np.zeros(n)\n",
    "\n",
    "for i in range(n):\n",
    "    samples = np.random.normal(size=100)\n",
    "    mean2[i] = np.mean(samples)\n",
    "    var2_bias[i] = np.var(samples)\n",
    "    var2_nbias[i] = np.var(samples, ddof=1)\n",
    "    \n",
    "fig, axs = plt.subplots(1, 3, figsize=(18, 5), tight_layout=True)\n",
    "axs[0].hist(mean2, bins=15)\n",
    "axs[0].set_xlabel('mean')\n",
    "axs[0].set_ylabel('Frequency')\n",
    "axs[0].set_title('Histogram of mean')\n",
    "\n",
    "axs[1].hist(var2_bias, bins=15)\n",
    "axs[1].set_xlabel('variance')\n",
    "axs[1].set_ylabel('Frequency')\n",
    "axs[1].set_title('Histogram of biased variance')\n",
    "\n",
    "axs[2].hist(var2_nbias, bins=15)\n",
    "axs[2].set_xlabel('variance')\n",
    "axs[2].set_ylabel('Frequency')\n",
    "axs[2].set_title('Histogram of unbiased variance')\n",
    "\n",
    "plt.show()"
   ]
  },
  {
   "cell_type": "markdown",
   "metadata": {},
   "source": [
    "## Problem 3: Analyzing samples"
   ]
  },
  {
   "cell_type": "markdown",
   "metadata": {},
   "source": [
    "Load `sample1.out` from the `data` directory into your notebook. Inspect the distribution of the sample by plotting a histogram. \n",
    "\n",
    "(i) Write a class that is able to estimate mean and variance as well as error on the mean and bias of the variance. Make the choice of the variance estimator an argument of the class' `__init__` function.\n",
    "\n",
    "(ii) Use your class to estimate mean and variance of `sample1.out`. In addition, also estimate the median and plot them on top of your histogram.\n",
    "\n",
    "(iii) Now also estimate the mean and variance of the remaining samples in the `data` directory. Are the samples consistent with being drawn from the same underlying distribution? If yes, investigate the distribution of the sample means and compare to your expectations."
   ]
  },
  {
   "cell_type": "markdown",
   "metadata": {},
   "source": [
    "## Problem 4: The Poisson distribution"
   ]
  },
  {
   "cell_type": "markdown",
   "metadata": {},
   "source": [
    "Let us assume we have a process in which the probability of a given event, $p$, is small but we perform a large number of trials $N$. We further assume that the so-called rate of this process (or mean number of ocurring events), $\\lambda=Np$, is finite and constant. Then the probability of $k$ events occurring follows a Poisson distribution given by $$P(k|\\lambda)=\\frac{\\lambda^k e^{-\\lambda}}{k!}.$$ So the Poisson distribution describes the distributions of events, where each single one is rare but we perform a large number of trials in order to keep $\\lambda$ constant. An example for this is the number of photons reaching a telescope.\n",
    "\n",
    "One of the earliest application of Poisson processes was the probability of Prussian soldiers being kicked to death by horses. This problem was analyzed by Ladislaus Bortkiewicz in 1898. Analyzing 10 Prussian corps for 20 years he collected the following data:\n",
    "\n",
    "| Number of deaths | Number of groups |\n",
    "|:---| :--- |\n",
    "| 0 | 109 |\n",
    "| 1 | 65 |\n",
    "| 2 | 22 |\n",
    "| 3 | 3 |\n",
    "| 4 | 1 |\n",
    "\n",
    "(i) Plot the probability distribution of these data.\n",
    "\n",
    "(ii) Compare to the theoretical prediction using Poisson statistics."
   ]
  },
  {
   "cell_type": "code",
   "execution_count": null,
   "metadata": {},
   "outputs": [],
   "source": []
  }
 ],
 "metadata": {
  "kernelspec": {
   "display_name": "Python 3 (ipykernel)",
   "language": "python",
   "name": "python3"
  },
  "language_info": {
   "codemirror_mode": {
    "name": "ipython",
    "version": 3
   },
   "file_extension": ".py",
   "mimetype": "text/x-python",
   "name": "python",
   "nbconvert_exporter": "python",
   "pygments_lexer": "ipython3",
   "version": "3.11.6"
  }
 },
 "nbformat": 4,
 "nbformat_minor": 4
}
